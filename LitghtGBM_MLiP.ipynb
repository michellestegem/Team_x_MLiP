{
 "cells": [
  {
   "cell_type": "markdown",
   "metadata": {},
   "source": [
    "# Objective\n",
    "\n",
    "* Make a baseline model that predict the validation (28 days). \n",
    "* This competition has 2 stages, so the main objective is to make a model that can predict the demand for the next 28 days"
   ]
  },
  {
   "cell_type": "code",
   "execution_count": 1,
   "metadata": {
    "_cell_guid": "b1076dfc-b9ad-4769-8c92-a6c4dae69d19",
    "_uuid": "8f2839f25d086af736a60e9eeb907d3b93b6e0e5"
   },
   "outputs": [],
   "source": [
    "import warnings\n",
    "warnings.filterwarnings('ignore')\n",
    "import pandas as pd\n",
    "import numpy as np\n",
    "import dask.dataframe as dd\n",
    "pd.set_option('display.max_columns', 500)\n",
    "pd.set_option('display.max_rows', 500)\n",
    "import matplotlib.pyplot as plt\n",
    "import seaborn as sns\n",
    "import lightgbm as lgb\n",
    "import dask_xgboost as xgb\n",
    "import dask.dataframe as dd\n",
    "from sklearn import preprocessing, metrics\n",
    "import gc\n",
    "import os\n",
    "for dirname, _, filenames in os.walk('/kaggle/input'):\n",
    "    for filename in filenames:\n",
    "        print(os.path.join(dirname, filename))"
   ]
  },
  {
   "cell_type": "code",
   "execution_count": 2,
   "metadata": {
    "_cell_guid": "79c7e3d0-c299-4dcb-8224-4455121ee9b0",
    "_uuid": "d629ff2d2480ee46fbb7e2d37f6b5fab8052498a"
   },
   "outputs": [],
   "source": [
    "def reduce_mem_usage(df, verbose=True):\n",
    "    numerics = ['int16', 'int32', 'int64', 'float16', 'float32', 'float64']\n",
    "    start_mem = df.memory_usage().sum() / 1024**2    \n",
    "    for col in df.columns:\n",
    "        col_type = df[col].dtypes\n",
    "        if col_type in numerics:\n",
    "            c_min = df[col].min()\n",
    "            c_max = df[col].max()\n",
    "            if str(col_type)[:3] == 'int':\n",
    "                if c_min > np.iinfo(np.int8).min and c_max < np.iinfo(np.int8).max:\n",
    "                    df[col] = df[col].astype(np.int8)\n",
    "                elif c_min > np.iinfo(np.int16).min and c_max < np.iinfo(np.int16).max:\n",
    "                    df[col] = df[col].astype(np.int16)\n",
    "                elif c_min > np.iinfo(np.int32).min and c_max < np.iinfo(np.int32).max:\n",
    "                    df[col] = df[col].astype(np.int32)\n",
    "                elif c_min > np.iinfo(np.int64).min and c_max < np.iinfo(np.int64).max:\n",
    "                    df[col] = df[col].astype(np.int64)  \n",
    "            else:\n",
    "                if c_min > np.finfo(np.float16).min and c_max < np.finfo(np.float16).max:\n",
    "                    df[col] = df[col].astype(np.float16)\n",
    "                elif c_min > np.finfo(np.float32).min and c_max < np.finfo(np.float32).max:\n",
    "                    df[col] = df[col].astype(np.float32)\n",
    "                else:\n",
    "                    df[col] = df[col].astype(np.float64)    \n",
    "    end_mem = df.memory_usage().sum() / 1024**2\n",
    "    if verbose: print('Mem. usage decreased to {:5.2f} Mb ({:.1f}% reduction)'.format(end_mem, 100 * (start_mem - end_mem) / start_mem))\n",
    "    return df\n",
    "\n",
    "\n",
    "# function to read the data and merge it (ignoring some columns, this is a very fst model)\n",
    "\n",
    "\n",
    "def read_data():\n",
    "    print('Reading files...')\n",
    "    calendar = pd.read_csv('./kaggle/input/m5-forecasting-accuracy/calendar.csv')\n",
    "    calendar = reduce_mem_usage(calendar)\n",
    "    print('Calendar has {} rows and {} columns'.format(calendar.shape[0], calendar.shape[1]))\n",
    "    sell_prices = pd.read_csv('./kaggle/input/m5-forecasting-accuracy/sell_prices.csv')\n",
    "    sell_prices = reduce_mem_usage(sell_prices)\n",
    "    print('Sell prices has {} rows and {} columns'.format(sell_prices.shape[0], sell_prices.shape[1]))\n",
    "    sales_train_validation = pd.read_csv('./kaggle/input/m5-forecasting-accuracy/sales_train_validation.csv')\n",
    "    print('Sales train validation has {} rows and {} columns'.format(sales_train_validation.shape[0], sales_train_validation.shape[1]))\n",
    "    submission = pd.read_csv('./kaggle/input/m5-forecasting-accuracy/sample_submission.csv')\n",
    "    return calendar, sell_prices, sales_train_validation, submission\n",
    "\n",
    "\n",
    "def melt_and_merge(calendar, sell_prices, sales_train_validation, submission, nrows = 55000000, merge = False):\n",
    "    \n",
    "    # melt sales data, get it ready for training\n",
    "    sales_train_validation = pd.melt(sales_train_validation, id_vars = ['id', 'item_id', 'dept_id', 'cat_id', 'store_id', 'state_id'], var_name = 'day', value_name = 'demand')\n",
    "    print('Melted sales train validation has {} rows and {} columns'.format(sales_train_validation.shape[0], sales_train_validation.shape[1]))\n",
    "    sales_train_validation = reduce_mem_usage(sales_train_validation)\n",
    "    \n",
    "    # seperate test dataframes\n",
    "    test1_rows = [row for row in submission['id'] if 'validation' in row]\n",
    "    test2_rows = [row for row in submission['id'] if 'evaluation' in row]\n",
    "    test1 = submission[submission['id'].isin(test1_rows)]\n",
    "    test2 = submission[submission['id'].isin(test2_rows)]\n",
    "    \n",
    "    # change column names\n",
    "    test1.columns = ['id', 'd_1914', 'd_1915', 'd_1916', 'd_1917', 'd_1918', 'd_1919', 'd_1920', 'd_1921', 'd_1922', 'd_1923', 'd_1924', 'd_1925', 'd_1926', 'd_1927', 'd_1928', 'd_1929', 'd_1930', 'd_1931', \n",
    "                      'd_1932', 'd_1933', 'd_1934', 'd_1935', 'd_1936', 'd_1937', 'd_1938', 'd_1939', 'd_1940', 'd_1941']\n",
    "    test2.columns = ['id', 'd_1942', 'd_1943', 'd_1944', 'd_1945', 'd_1946', 'd_1947', 'd_1948', 'd_1949', 'd_1950', 'd_1951', 'd_1952', 'd_1953', 'd_1954', 'd_1955', 'd_1956', 'd_1957', 'd_1958', 'd_1959', \n",
    "                      'd_1960', 'd_1961', 'd_1962', 'd_1963', 'd_1964', 'd_1965', 'd_1966', 'd_1967', 'd_1968', 'd_1969']\n",
    "    \n",
    "    # get product table\n",
    "    product = sales_train_validation[['id', 'item_id', 'dept_id', 'cat_id', 'store_id', 'state_id']].drop_duplicates()\n",
    "    \n",
    "    # merge with product table\n",
    "    test2['id'] = test2['id'].str.replace('_evaluation','_validation')\n",
    "    test1 = test1.merge(product, how = 'left', on = 'id')\n",
    "    test2 = test2.merge(product, how = 'left', on = 'id')\n",
    "    test2['id'] = test2['id'].str.replace('_validation','_evaluation')\n",
    "    \n",
    "    # \n",
    "    test1 = pd.melt(test1, id_vars = ['id', 'item_id', 'dept_id', 'cat_id', 'store_id', 'state_id'], var_name = 'day', value_name = 'demand')\n",
    "    test2 = pd.melt(test2, id_vars = ['id', 'item_id', 'dept_id', 'cat_id', 'store_id', 'state_id'], var_name = 'day', value_name = 'demand')\n",
    "    \n",
    "    sales_train_validation['part'] = 'train'\n",
    "    test1['part'] = 'test1'\n",
    "    test2['part'] = 'test2'\n",
    "    \n",
    "    data = pd.concat([sales_train_validation, test1, test2], axis = 0)\n",
    "    \n",
    "    del sales_train_validation, test1, test2\n",
    "    \n",
    "    # get only a sample for fst training\n",
    "    data = data.loc[nrows:]\n",
    "    \n",
    "    # drop some calendar features\n",
    "    calendar.drop(['weekday', 'wday', 'month', 'year'], inplace = True, axis = 1)\n",
    "    \n",
    "    # delete test2 for now\n",
    "    data = data[data['part'] != 'test2']\n",
    "    \n",
    "    if merge:\n",
    "        # notebook crash with the entire dataset (maybee use tensorflow, dask, pyspark xD)\n",
    "        data = pd.merge(data, calendar, how = 'left', left_on = ['day'], right_on = ['d'])\n",
    "        data.drop(['d', 'day'], inplace = True, axis = 1)\n",
    "        # get the sell price data (this feature should be very important)\n",
    "        data = data.merge(sell_prices, on = ['store_id', 'item_id', 'wm_yr_wk'], how = 'left')\n",
    "        print('Our final dataset to train has {} rows and {} columns'.format(data.shape[0], data.shape[1]))\n",
    "    else: \n",
    "        pass\n",
    "    \n",
    "    gc.collect()\n",
    "    \n",
    "    return data\n",
    "        \n",
    "calendar, sell_prices, sales_train_validation, submission = read_data()\n",
    "data = melt_and_merge(calendar, sell_prices, sales_train_validation, submission, nrows = 27500000, merge = True)"
   ]
  },
  {
   "cell_type": "code",
   "execution_count": 5,
   "metadata": {},
   "outputs": [
    {
     "name": "stdout",
     "output_type": "stream",
     "text": [
      "Mem. usage decreased to 3444.33 Mb (10.2% reduction)\n",
      "Mem. usage decreased to 3474.55 Mb (5.7% reduction)\n",
      "Mem. usage decreased to 3504.76 Mb (5.7% reduction)\n",
      "Mem. usage decreased to 3534.97 Mb (5.6% reduction)\n",
      "Mem. usage decreased to 3565.19 Mb (5.6% reduction)\n",
      "Mem. usage decreased to 3595.40 Mb (5.6% reduction)\n",
      "Mem. usage decreased to 3625.61 Mb (5.5% reduction)\n",
      "Mem. usage decreased to 3655.83 Mb (5.5% reduction)\n",
      "Mem. usage decreased to 3686.04 Mb (5.4% reduction)\n",
      "Mem. usage decreased to 3716.25 Mb (5.4% reduction)\n",
      "Mem. usage decreased to 3746.47 Mb (5.3% reduction)\n",
      "Mem. usage decreased to 3776.68 Mb (5.3% reduction)\n",
      "Mem. usage decreased to 3806.89 Mb (5.3% reduction)\n",
      "Mem. usage decreased to 3837.11 Mb (5.2% reduction)\n",
      "Mem. usage decreased to 3867.32 Mb (5.2% reduction)\n",
      "Mem. usage decreased to 3897.53 Mb (5.1% reduction)\n",
      "Mem. usage decreased to 3927.75 Mb (5.1% reduction)\n",
      "Mem. usage decreased to 3957.96 Mb (5.1% reduction)\n",
      "Mem. usage decreased to 3988.17 Mb (5.0% reduction)\n",
      "Mem. usage decreased to 4018.39 Mb (5.0% reduction)\n",
      "Mem. usage decreased to 4048.60 Mb (5.0% reduction)\n",
      "Mem. usage decreased to 4078.81 Mb (4.9% reduction)\n",
      "Mem. usage decreased to 4109.03 Mb (4.9% reduction)\n",
      "Mem. usage decreased to 4139.24 Mb (4.9% reduction)\n",
      "Mem. usage decreased to 4169.45 Mb (4.8% reduction)\n",
      "Mem. usage decreased to 4199.67 Mb (4.8% reduction)\n",
      "Mem. usage decreased to 4229.88 Mb (4.8% reduction)\n",
      "Mem. usage decreased to 4260.10 Mb (4.7% reduction)\n",
      "Mem. usage decreased to 4290.31 Mb (4.7% reduction)\n",
      "Mem. usage decreased to 4320.52 Mb (4.7% reduction)\n"
     ]
    }
   ],
   "source": [
    "import datetime\n",
    "\n",
    "#list all events from event_1\n",
    "event_names = pd.Series(data['event_name_1'].unique()).dropna()\n",
    "event_names.append(pd.Series(data['event_name_2'].unique()).dropna())\n",
    "event_names = event_names.unique()\n",
    "\n",
    "def previous_week_range(end_date):\n",
    "    end_date = datetime.datetime.strptime(end_date, \"%Y-%m-%d\")\n",
    "    \n",
    "    start_date = end_date + datetime.timedelta(weeks=-1)\n",
    "    datelist = pd.date_range(start=start_date, end=end_date)\n",
    "    \n",
    "    return datelist\n",
    "\n",
    "for item in event_names:\n",
    "    eventdays = data['date'][data['event_name_1']==item]\n",
    "    eventdays = eventdays.unique()\n",
    "    \n",
    "    datelist = []\n",
    "    \n",
    "    for x in eventdays:\n",
    "        datelist.append(previous_week_range(x))\n",
    "    \n",
    "    data[item] = 0\n",
    "    for year in datelist:\n",
    "        for day in year:\n",
    "            data[item][data['date'] == day.strftime(\"%Y-%m-%d\")] = 1\n",
    "    data = reduce_mem_usage(data)\n"
   ]
  },
  {
   "cell_type": "markdown",
   "metadata": {},
   "source": [
    "* We have the data to build our first model, let's build a baseline and predict the validation data (in our case is test1)"
   ]
  },
  {
   "cell_type": "code",
   "execution_count": 6,
   "metadata": {},
   "outputs": [],
   "source": [
    "def transform(data):\n",
    "    \n",
    "    nan_features = ['event_name_1', 'event_type_1', 'event_name_2', 'event_type_2']\n",
    "    for feature in nan_features:\n",
    "        data[feature].fillna('unknown', inplace = True)\n",
    "        \n",
    "    cat = ['item_id', 'dept_id', 'cat_id', 'store_id', 'state_id', 'event_name_1', 'event_type_1', 'event_name_2', 'event_type_2']\n",
    "    for feature in cat:\n",
    "        encoder = preprocessing.LabelEncoder()\n",
    "        data[feature] = encoder.fit_transform(data[feature])\n",
    "    \n",
    "    return data"
   ]
  },
  {
   "cell_type": "code",
   "execution_count": 7,
   "metadata": {},
   "outputs": [],
   "source": [
    "data = transform(data)"
   ]
  },
  {
   "cell_type": "code",
   "execution_count": 8,
   "metadata": {},
   "outputs": [],
   "source": [
    "# rolling demand features\n",
    "data['lag_t28'] = data.groupby(['id'])['demand'].transform(lambda x: x.shift(28))\n",
    "data['lag_t29'] = data.groupby(['id'])['demand'].transform(lambda x: x.shift(29))\n",
    "data['lag_t30'] = data.groupby(['id'])['demand'].transform(lambda x: x.shift(30))\n",
    "data['rolling_mean_t7'] = data.groupby(['id'])['demand'].transform(lambda x: x.shift(28).rolling(7).mean())\n",
    "data['rolling_std_t7'] = data.groupby(['id'])['demand'].transform(lambda x: x.shift(28).rolling(7).std())\n",
    "data['rolling_mean_t30'] = data.groupby(['id'])['demand'].transform(lambda x: x.shift(28).rolling(30).mean())\n",
    "data['rolling_mean_t90'] = data.groupby(['id'])['demand'].transform(lambda x: x.shift(28).rolling(90).mean())\n",
    "data['rolling_mean_t180'] = data.groupby(['id'])['demand'].transform(lambda x: x.shift(28).rolling(180).mean())\n",
    "data['rolling_std_t30'] = data.groupby(['id'])['demand'].transform(lambda x: x.shift(28).rolling(30).std())\n",
    "data['rolling_skew_t30'] = data.groupby(['id'])['demand'].transform(lambda x: x.shift(28).rolling(30).skew())\n",
    "data['rolling_kurt_t30'] = data.groupby(['id'])['demand'].transform(lambda x: x.shift(28).rolling(30).kurt())\n",
    "    \n",
    "    \n",
    "# price features\n",
    "data['lag_price_t1'] = data.groupby(['id'])['sell_price'].transform(lambda x: x.shift(1))\n",
    "data['price_change_t1'] = (data['lag_price_t1'] - data['sell_price']) / (data['lag_price_t1'])\n",
    "data['rolling_price_max_t365'] = data.groupby(['id'])['sell_price'].transform(lambda x: x.shift(1).rolling(365).max())\n",
    "data['price_change_t365'] = (data['rolling_price_max_t365'] - data['sell_price']) / (data['rolling_price_max_t365'])\n",
    "data['rolling_price_std_t7'] = data.groupby(['id'])['sell_price'].transform(lambda x: x.rolling(7).std())\n",
    "data['rolling_price_std_t30'] = data.groupby(['id'])['sell_price'].transform(lambda x: x.rolling(30).std())\n",
    "data.drop(['rolling_price_max_t365', 'lag_price_t1'], inplace = True, axis = 1)\n",
    "    \n",
    "# time features\n",
    "data['date'] = pd.to_datetime(data['date'])\n",
    "data['year'] = data['date'].dt.year\n",
    "data['month'] = data['date'].dt.month\n",
    "data['week'] = data['date'].dt.week\n",
    "data['day'] = data['date'].dt.day\n",
    "data['dayofweek'] = data['date'].dt.dayofweek"
   ]
  },
  {
   "cell_type": "code",
   "execution_count": 9,
   "metadata": {},
   "outputs": [
    {
     "name": "stdout",
     "output_type": "stream",
     "text": [
      "Mem. usage decreased to 3534.97 Mb (51.9% reduction)\n"
     ]
    }
   ],
   "source": [
    "# reduce memory for new features so we can train\n",
    "data = reduce_mem_usage(data)"
   ]
  },
  {
   "cell_type": "code",
   "execution_count": 4,
   "metadata": {},
   "outputs": [],
   "source": [
    "def run_lgb(data):\n",
    "    \n",
    "    # going to evaluate with the last 28 days\n",
    "    x_train = data[data['date'] <= '2016-03-27']\n",
    "    y_train = x_train['demand']\n",
    "    x_val = data[(data['date'] > '2016-03-27') & (data['date'] <= '2016-04-24')]\n",
    "    y_val = x_val['demand']\n",
    "    test = data[(data['date'] > '2016-04-24')]\n",
    "    del data\n",
    "    gc.collect()\n",
    "\n",
    "    # define random hyperparammeters\n",
    "    params = {\n",
    "        'boosting_type': 'gbdt',\n",
    "        'metric': 'rmse',\n",
    "        'objective': 'regression',\n",
    "        'n_jobs': -1,\n",
    "        'seed': 236,\n",
    "        'learning_rate': 0.1,\n",
    "        'bagging_fraction': 0.75,\n",
    "        'bagging_freq': 10, \n",
    "        'colsample_bytree': 0.75}\n",
    "\n",
    "    train_set = lgb.Dataset(x_train[features], y_train)\n",
    "    val_set = lgb.Dataset(x_val[features], y_val)\n",
    "    \n",
    "    del x_train, y_train\n",
    "\n",
    "    model = lgb.train(params, train_set, num_boost_round = 2500, early_stopping_rounds = 50, valid_sets = [train_set, val_set], verbose_eval = 100)\n",
    "    val_pred = model.predict(x_val[features])\n",
    "    val_score = np.sqrt(metrics.mean_squared_error(val_pred, y_val))\n",
    "    print(f'Our val rmse score is {val_score}')\n",
    "    y_pred = model.predict(test[features])\n",
    "    test['demand'] = y_pred\n",
    "    return test\n",
    "\n",
    "    \n"
   ]
  },
  {
   "cell_type": "code",
   "execution_count": 5,
   "metadata": {},
   "outputs": [],
   "source": [
    "def predict(test, submission):\n",
    "    predictions = test[['id', 'date', 'demand']]\n",
    "    predictions = pd.pivot(predictions, index = 'id', columns = 'date', values = 'demand').reset_index()\n",
    "    predictions.columns = ['id'] + ['F' + str(i + 1) for i in range(28)]\n",
    "\n",
    "    evaluation_rows = [row for row in submission['id'] if 'evaluation' in row] \n",
    "    evaluation = submission[submission['id'].isin(evaluation_rows)]\n",
    "\n",
    "    validation = submission[['id']].merge(predictions, on = 'id')\n",
    "    final = pd.concat([validation, evaluation])\n",
    "    final.to_csv('submission.csv', index = False)"
   ]
  },
  {
   "cell_type": "code",
   "execution_count": null,
   "metadata": {},
   "outputs": [],
   "source": [
    "# define list of features for approach A.1\n",
    "#features = ['item_id', 'dept_id', 'cat_id', 'store_id', 'state_id', 'year', 'month', 'week', 'day', 'dayofweek', 'event_name_1', 'event_type_1', 'event_name_2', 'event_type_2', \n",
    " #           'snap_CA', 'snap_TX', 'snap_WI', 'sell_price', 'lag_t28', 'lag_t29', 'lag_t30', 'rolling_mean_t7', 'rolling_std_t7', 'rolling_mean_t30', 'rolling_mean_t90', \n",
    "  #          'rolling_mean_t180', 'rolling_std_t30', 'price_change_t1', 'price_change_t365', 'rolling_price_std_t7', 'rolling_price_std_t30', 'rolling_skew_t30', 'rolling_kurt_t30']\n"
   ]
  },
  {
   "cell_type": "code",
   "execution_count": null,
   "metadata": {},
   "outputs": [],
   "source": [
    "# define list of features for approach A.2\n",
    "#features = ['item_id', 'dept_id', 'cat_id', 'store_id', 'state_id', 'year', 'month', 'week', 'day', 'dayofweek', 'event_name_1', 'event_type_1', 'event_name_2', 'event_type_2', \n",
    " #           'snap_CA', 'snap_TX', 'snap_WI', 'sell_price']\n"
   ]
  },
  {
   "cell_type": "code",
   "execution_count": null,
   "metadata": {},
   "outputs": [],
   "source": [
    "# define list of features for approach D.1\n",
    "#features = ['item_id', 'dept_id', 'cat_id', 'store_id', 'state_id', 'year', 'month', 'week', 'day', 'dayofweek', 'event_name_1', 'event_type_1', 'event_name_2', 'event_type_2',\n",
    "#            'Eid al-Fitr', 'LaborDay', 'ColumbusDay','EidAlAdha', 'Halloween', 'VeteransDay', 'Thanksgiving', 'Chanukah End', 'Christmas',\n",
    " #           'NewYear', 'OrthodoxChristmas', 'MartinLutherKingDay', 'SuperBowl', 'ValentinesDay', 'PresidentsDay', 'LentStart', 'LentWeek2', 'Purim End',\n",
    "  #          'StPatricksDay', 'Easter', 'Pesach End', 'Cinco De Mayo', \"Mother's day\", 'MemorialDay', 'NBAFinalsStart', 'NBAFinalsEnd',\n",
    "   #         'Ramadan starts', 'IndependenceDay', 'OrthodoxEaster', \"Father's day\",'snap_CA', 'snap_TX', 'snap_WI', 'sell_price']\n"
   ]
  },
  {
   "cell_type": "code",
   "execution_count": 6,
   "metadata": {},
   "outputs": [],
   "source": [
    "# define list of features for approach D.2\n",
    "#features = ['item_id', 'dept_id', 'cat_id', 'store_id', 'state_id', 'year', 'month', 'week', 'day', 'dayofweek', 'event_name_1', 'event_type_1', 'event_name_2', 'event_type_2',\n",
    " #           'Eid al-Fitr', 'LaborDay', 'ColumbusDay','EidAlAdha', 'Halloween', 'VeteransDay', 'Thanksgiving', 'Chanukah End', 'Christmas',\n",
    "  #          'NewYear', 'OrthodoxChristmas', 'MartinLutherKingDay', 'SuperBowl', 'ValentinesDay', 'PresidentsDay', 'LentStart', 'LentWeek2', 'Purim End',\n",
    "   #         'StPatricksDay', 'Easter', 'Pesach End', 'Cinco De Mayo', \"Mother's day\", 'MemorialDay', 'NBAFinalsStart', 'NBAFinalsEnd',\n",
    "    #        'Ramadan starts', 'IndependenceDay', 'OrthodoxEaster', \"Father's day\",'snap_CA', 'snap_TX', 'snap_WI', 'sell_price', 'lag_t28', \n",
    "     #       'lag_t29', 'lag_t30', 'rolling_mean_t7', 'rolling_std_t7', 'rolling_mean_t30', 'rolling_mean_t90', 'rolling_mean_t180', 'rolling_std_t30', \n",
    "      #      'price_change_t1', 'price_change_t365', 'rolling_price_std_t7', 'rolling_price_std_t30', 'rolling_skew_t30', 'rolling_kurt_t30']\n"
   ]
  },
  {
   "cell_type": "code",
   "execution_count": 11,
   "metadata": {},
   "outputs": [
    {
     "name": "stdout",
     "output_type": "stream",
     "text": [
      "Training until validation scores don't improve for 50 rounds\n",
      "[100]\ttraining's rmse: 3.0567\tvalid_1's rmse: 2.90621\n",
      "[200]\ttraining's rmse: 2.94181\tvalid_1's rmse: 2.79489\n",
      "[300]\ttraining's rmse: 2.86035\tvalid_1's rmse: 2.70613\n",
      "[400]\ttraining's rmse: 2.81592\tvalid_1's rmse: 2.65163\n",
      "[500]\ttraining's rmse: 2.77603\tvalid_1's rmse: 2.61779\n",
      "[600]\ttraining's rmse: 2.73907\tvalid_1's rmse: 2.58236\n",
      "[700]\ttraining's rmse: 2.72203\tvalid_1's rmse: 2.56375\n",
      "[800]\ttraining's rmse: 2.70237\tvalid_1's rmse: 2.54687\n",
      "[900]\ttraining's rmse: 2.68375\tvalid_1's rmse: 2.53105\n",
      "[1000]\ttraining's rmse: 2.66039\tvalid_1's rmse: 2.50954\n",
      "[1100]\ttraining's rmse: 2.64627\tvalid_1's rmse: 2.49598\n",
      "[1200]\ttraining's rmse: 2.62964\tvalid_1's rmse: 2.48022\n",
      "[1300]\ttraining's rmse: 2.61887\tvalid_1's rmse: 2.46513\n",
      "[1400]\ttraining's rmse: 2.60687\tvalid_1's rmse: 2.45652\n",
      "[1500]\ttraining's rmse: 2.59833\tvalid_1's rmse: 2.45002\n",
      "[1600]\ttraining's rmse: 2.59117\tvalid_1's rmse: 2.44656\n",
      "[1700]\ttraining's rmse: 2.57902\tvalid_1's rmse: 2.43621\n",
      "[1800]\ttraining's rmse: 2.5719\tvalid_1's rmse: 2.43239\n",
      "[1900]\ttraining's rmse: 2.56247\tvalid_1's rmse: 2.42514\n",
      "[2000]\ttraining's rmse: 2.55639\tvalid_1's rmse: 2.41946\n",
      "[2100]\ttraining's rmse: 2.55063\tvalid_1's rmse: 2.4171\n",
      "[2200]\ttraining's rmse: 2.54338\tvalid_1's rmse: 2.40994\n",
      "[2300]\ttraining's rmse: 2.53803\tvalid_1's rmse: 2.40747\n",
      "[2400]\ttraining's rmse: 2.53463\tvalid_1's rmse: 2.40623\n",
      "[2500]\ttraining's rmse: 2.52805\tvalid_1's rmse: 2.39958\n",
      "Did not meet early stopping. Best iteration is:\n",
      "[2500]\ttraining's rmse: 2.52805\tvalid_1's rmse: 2.39958\n",
      "Our val rmse score is 2.3995849267956944\n"
     ]
    },
    {
     "ename": "NameError",
     "evalue": "name 'submission' is not defined",
     "output_type": "error",
     "traceback": [
      "\u001b[1;31m---------------------------------------------------------------------------\u001b[0m",
      "\u001b[1;31mNameError\u001b[0m                                 Traceback (most recent call last)",
      "\u001b[1;32m<ipython-input-11-e20a178c10a8>\u001b[0m in \u001b[0;36m<module>\u001b[1;34m\u001b[0m\n\u001b[0;32m      1\u001b[0m \u001b[0mtest\u001b[0m \u001b[1;33m=\u001b[0m \u001b[0mrun_lgb\u001b[0m\u001b[1;33m(\u001b[0m\u001b[0mdata\u001b[0m\u001b[1;33m)\u001b[0m\u001b[1;33m\u001b[0m\u001b[1;33m\u001b[0m\u001b[0m\n\u001b[1;32m----> 2\u001b[1;33m \u001b[0mpredict\u001b[0m\u001b[1;33m(\u001b[0m\u001b[0mtest\u001b[0m\u001b[1;33m,\u001b[0m \u001b[0msubmission\u001b[0m\u001b[1;33m)\u001b[0m\u001b[1;33m\u001b[0m\u001b[1;33m\u001b[0m\u001b[0m\n\u001b[0m",
      "\u001b[1;31mNameError\u001b[0m: name 'submission' is not defined"
     ]
    }
   ],
   "source": [
    "test = run_lgb(data)\n",
    "predict(test, submission)"
   ]
  },
  {
   "cell_type": "code",
   "execution_count": 14,
   "metadata": {},
   "outputs": [],
   "source": [
    "predict(test, submission)"
   ]
  }
 ],
 "metadata": {
  "kernelspec": {
   "display_name": "Python 3",
   "language": "python",
   "name": "python3"
  },
  "language_info": {
   "codemirror_mode": {
    "name": "ipython",
    "version": 3
   },
   "file_extension": ".py",
   "mimetype": "text/x-python",
   "name": "python",
   "nbconvert_exporter": "python",
   "pygments_lexer": "ipython3",
   "version": "3.7.6"
  }
 },
 "nbformat": 4,
 "nbformat_minor": 4
}
